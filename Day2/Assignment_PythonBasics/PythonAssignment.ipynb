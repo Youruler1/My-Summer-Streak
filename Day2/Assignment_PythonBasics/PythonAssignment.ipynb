{
  "nbformat": 4,
  "nbformat_minor": 0,
  "metadata": {
    "colab": {
      "provenance": []
    },
    "kernelspec": {
      "name": "python3",
      "display_name": "Python 3"
    },
    "language_info": {
      "name": "python"
    }
  },
  "cells": [
    {
      "cell_type": "markdown",
      "source": [
        "# Python Assignment\n",
        "Refer to pdf in current folder for questions"
      ],
      "metadata": {
        "id": "CDRBRSkAQDWo"
      }
    },
    {
      "cell_type": "markdown",
      "source": [
        "## Question 1"
      ],
      "metadata": {
        "id": "H_q7x3ZpQIYv"
      }
    },
    {
      "cell_type": "code",
      "source": [
        "L = [11, 12, 13, 14]\n",
        "Lcpy = L.copy()\n",
        "print(L)\n",
        "\n",
        "# adding 50 and 60 to L\n",
        "L.append(50)\n",
        "L.insert(1,60)\n",
        "print(L)\n",
        "\n",
        "# removing 11 and 13 from L\n",
        "del L[3]\n",
        "L.remove(11)\n",
        "print(L)\n",
        "\n",
        "# sort L in ascending order\n",
        "# L.sort() #ascending by default\n",
        "L0 = sorted(L,reverse=False, key=None)\n",
        "# or just simply L0 = sorted(L)\n",
        "print(L0)\n",
        "\n",
        "# sort L in descending order\n",
        "L0 = sorted(L, reverse=True)\n",
        "print(L0)\n",
        "\n",
        "# restoring L to original\n",
        "L = Lcpy.copy()\n",
        "print(\"L now is: \", L)\n",
        "\n",
        "# check 'membership' of 13 in L\n",
        "print(13 in L)\n",
        "\n",
        "# search for indices of first occurence of 13:\n",
        "try:\n",
        "  print(L.index(13))\n",
        "except:\n",
        "  print(\"13 not present in L\")\n",
        "\n",
        "# search for indices of all occurences of 13 in L:\n",
        "indices = [i for i,x in enumerate(L) if x == 13]\n",
        "print(\"13 is at indices: \", indices)\n",
        "\n",
        "# count number of elements present in L\n",
        "print(len(L))\n",
        "\n",
        "# sum all elements in L\n",
        "print(sum(L))\n",
        "\n",
        "# sum all odd numbers in L\n",
        "odd_sum = sum([x for x in L if x%2!=0])\n",
        "print(odd_sum)\n",
        "\n",
        "# sum all even numbers in L\n",
        "even_sum = sum([x for x in L if x%2 == 0])\n",
        "print(even_sum)\n",
        "\n",
        "# sum all prime numbers in L\n",
        "def primeCheck(num):\n",
        "  for i in range(2,num//2):\n",
        "    if (num%i == 0): return 0\n",
        "  return 1\n",
        "prime_sum = sum([x for x in L if primeCheck(x)])\n",
        "print(prime_sum)\n",
        "\n",
        "# clear all elements in L\n",
        "L.clear()\n",
        "print(L)\n",
        "\n",
        "# delete L\n",
        "del L\n",
        "try:\n",
        "  print(L)\n",
        "except NameError:\n",
        "  print(\"Deletion of L successful!\")\n"
      ],
      "metadata": {
        "colab": {
          "base_uri": "https://localhost:8080/"
        },
        "id": "zVTiqKNGQQ1J",
        "outputId": "4124ed0f-0e60-48c7-f997-d9709bb09f0c"
      },
      "execution_count": 1,
      "outputs": [
        {
          "output_type": "stream",
          "name": "stdout",
          "text": [
            "[11, 12, 13, 14]\n",
            "[11, 60, 12, 13, 14, 50]\n",
            "[60, 12, 14, 50]\n",
            "[12, 14, 50, 60]\n",
            "[60, 50, 14, 12]\n",
            "L now is:  [11, 12, 13, 14]\n",
            "True\n",
            "2\n",
            "13 is at indices:  [2]\n",
            "4\n",
            "50\n",
            "24\n",
            "26\n",
            "24\n",
            "[]\n",
            "Deletion of L successful!\n"
          ]
        }
      ]
    },
    {
      "cell_type": "markdown",
      "source": [
        "## Question 2"
      ],
      "metadata": {
        "id": "67D-7tQhgYic"
      }
    },
    {
      "cell_type": "code",
      "source": [
        "D = {1:5.6, 2:7.8, 3:6.6, 4:8.7, 5:7.7}\n",
        "\n",
        "# add new entry in D -- key=8 and value is 8.8\n",
        "D[8] = 8.8\n",
        "# or:\n",
        "D.update({8:8.8})\n",
        "print(D)\n",
        "\n",
        "# remove key=2 from D\n",
        "del D[2]\n",
        "# or use -- D.pop(2)\n",
        "print(D)\n",
        "\n",
        "# check membership of key 6 in D\n",
        "print(6 in D)\n",
        "\n",
        "# count number of elements in D\n",
        "print(len(D))\n",
        "\n",
        "# add all values present in D\n",
        "dict_sum = sum(D.values())\n",
        "print(dict_sum)\n",
        "\n",
        "# update the value of 3 to 7.1\n",
        "D[3] = 7.1\n",
        "print(D)\n",
        "\n",
        "# clear D\n",
        "D.clear()\n",
        "print(D)\n",
        "\n",
        "# delete D\n",
        "del D\n"
      ],
      "metadata": {
        "colab": {
          "base_uri": "https://localhost:8080/"
        },
        "id": "XhzD6KvzgaUR",
        "outputId": "5e7a3de4-d162-4385-cd37-2b1e64608118"
      },
      "execution_count": 6,
      "outputs": [
        {
          "output_type": "stream",
          "name": "stdout",
          "text": [
            "{1: 5.6, 2: 7.8, 3: 6.6, 4: 8.7, 5: 7.7, 8: 8.8}\n",
            "{1: 5.6, 3: 6.6, 4: 8.7, 5: 7.7, 8: 8.8}\n",
            "False\n",
            "5\n",
            "37.4\n",
            "{1: 5.6, 3: 7.1, 4: 8.7, 5: 7.7, 8: 8.8}\n",
            "{}\n"
          ]
        }
      ]
    },
    {
      "cell_type": "markdown",
      "source": [
        "## Question-3"
      ],
      "metadata": {
        "id": "-BwMr5Yzog9o"
      }
    },
    {
      "cell_type": "code",
      "source": [
        "S1 = {10, 20, 30, 40, 50, 60}\n",
        "S2 = {40, 50, 60, 70, 80, 90}\n",
        "\n",
        "# Add 55 and 66 into S1\n",
        "S1.update([55,66])\n",
        "# can also use S1.add(55); S1.add(66)\n",
        "print(S1)\n",
        "\n",
        "# remove 10 and 30 from S1\n",
        "S1.remove(10)\n",
        "S1.remove(30)\n",
        "print(S1)\n",
        "\n",
        "# check membership of 40 in S1\n",
        "print(40 in S1)\n",
        "\n",
        "# find union between S1 and S2\n",
        "print(S1.union(S2))\n",
        "\n",
        "# find intersection between S1 and S2\n",
        "print(S1.intersection(S2))\n",
        "\n",
        "# find set-difference between S1 and S2\n",
        "print(S1.difference(S2))\n",
        "\n",
        "# find symmetric difference bw S1 and S2\n",
        "print(S1.symmetric_difference(S2))"
      ],
      "metadata": {
        "colab": {
          "base_uri": "https://localhost:8080/"
        },
        "id": "aRqlfh0wojLK",
        "outputId": "6f77929a-bd06-4902-aff5-1ab56cb91ccd"
      },
      "execution_count": 20,
      "outputs": [
        {
          "output_type": "stream",
          "name": "stdout",
          "text": [
            "{50, 66, 20, 55, 40, 10, 60, 30}\n",
            "{50, 66, 20, 55, 40, 60}\n",
            "True\n",
            "{66, 70, 40, 80, 50, 20, 55, 90, 60}\n",
            "{40, 50, 60}\n",
            "{66, 20, 55}\n",
            "{80, 66, 20, 70, 55, 90}\n"
          ]
        }
      ]
    },
    {
      "cell_type": "markdown",
      "source": [
        "## Question-4"
      ],
      "metadata": {
        "id": "amwa2yHlxGFd"
      }
    },
    {
      "cell_type": "code",
      "source": [
        "import random as r\n",
        "import string as s\n",
        "\n",
        "# print 100 random strings with length bw 6 and 8\n",
        "hund_str = []\n",
        "for i in range(100):\n",
        "  hund_str.append(r.sample(s.ascii_letters, r.randint(6,9)))\n",
        "print(hund_str)\n",
        "\n",
        "# print all prime numbers between 600 and 800\n",
        "def primeCheck(num):\n",
        "  for i in range(2,num//2):\n",
        "    if (num%i == 0): return 0\n",
        "  return 1\n",
        "print([i for i in range(600,801) if primeCheck(i)])\n",
        "\n",
        "# print all numbers between 100 and 1000 that are divisible by 7 and 9\n",
        "divs = []\n",
        "for i in range(100, 1001):\n",
        "  if (i%7==0 and i%9==0): divs.append(i)\n",
        "print(divs)"
      ],
      "metadata": {
        "colab": {
          "base_uri": "https://localhost:8080/"
        },
        "id": "Il9eOzHGxH8R",
        "outputId": "713c974a-7045-4535-f1ed-50cf10faf340"
      },
      "execution_count": 48,
      "outputs": [
        {
          "output_type": "stream",
          "name": "stdout",
          "text": [
            "[['T', 'p', 'r', 'd', 'D', 's', 'i', 'S'], ['U', 'c', 'D', 'L', 'T', 'r', 'B', 'Q', 'n'], ['f', 'j', 'D', 'G', 'C', 'e', 'u', 'L'], ['i', 'c', 'd', 'h', 'n', 'q', 'N', 'r'], ['z', 'l', 'H', 'A', 'W', 'm', 'j', 'u'], ['n', 'Z', 'L', 'U', 'A', 'q'], ['v', 'M', 't', 'C', 'O', 'a', 'E'], ['r', 's', 'q', 'B', 'y', 'p', 'R', 'U', 'L'], ['x', 'e', 'O', 'F', 'K', 'I', 'D'], ['D', 'h', 'L', 'k', 'K', 'C'], ['b', 'v', 'F', 'S', 'h', 'r', 'T', 'm', 'V'], ['g', 'V', 'a', 'X', 'S', 'R', 'c', 'H', 'Q'], ['Z', 'X', 'J', 'L', 'G', 'N', 'n', 's', 'z'], ['s', 'h', 'R', 'n', 'M', 'C', 'u', 'E'], ['S', 'F', 'J', 'j', 'n', 'c'], ['M', 'S', 'r', 'n', 'q', 'a', 'y', 'c'], ['H', 'g', 'x', 'Z', 'B', 'R', 'r', 'q', 'N'], ['k', 'W', 'T', 'e', 'U', 'P', 'K', 'Z', 'f'], ['s', 'v', 'a', 'X', 'b', 'N'], ['a', 'u', 'W', 'P', 'h', 'p', 'A', 'Q'], ['R', 'u', 'H', 'U', 'O', 'A', 'W'], ['u', 'Z', 'A', 'q', 'J', 'N'], ['u', 'f', 'X', 'C', 'a', 'o', 'b', 'H', 'M'], ['g', 'f', 'o', 'F', 'K', 'a', 'c'], ['q', 'G', 'Z', 'S', 'E', 'C', 'b'], ['Y', 'k', 'd', 'm', 'M', 'j', 'Z'], ['I', 'g', 'W', 'l', 'k', 'w', 'U', 'N', 'j'], ['N', 'X', 'M', 'U', 'Y', 'H', 'B', 's', 'e'], ['S', 'V', 'u', 'W', 'e', 'x', 'Q', 'z'], ['b', 'X', 'U', 'P', 'q', 'Z', 'l', 'f', 'W'], ['x', 'I', 'K', 'G', 'u', 'p', 's', 'v'], ['Y', 'V', 'l', 'u', 'k', 'i', 'j', 'X', 'Z'], ['T', 'A', 'i', 'x', 'f', 't', 'Q', 'q', 'K'], ['v', 'd', 't', 'x', 'Y', 'u'], ['u', 'd', 'K', 'V', 'm', 'B', 'g'], ['T', 'l', 'M', 'r', 'd', 'm', 'Z', 'J', 'b'], ['w', 'Q', 'G', 'L', 'W', 'O', 'h', 'Y'], ['s', 'J', 'i', 'y', 'A', 'x', 'h'], ['x', 's', 'r', 'S', 'b', 'H', 'v', 'Y'], ['u', 'P', 'F', 'N', 'T', 'm', 'M'], ['p', 'w', 'A', 'g', 'C', 'Z', 'F', 's', 'o'], ['v', 'H', 'R', 'A', 'q', 'x', 'U', 'g'], ['e', 'l', 'k', 'E', 'P', 'W', 'y', 'u'], ['S', 'O', 'N', 's', 'C', 'E', 'y'], ['r', 'A', 'F', 'B', 'y', 'k', 'g', 'x', 'n'], ['y', 'H', 'J', 'O', 'C', 'e'], ['i', 'q', 'y', 'E', 'r', 'F', 'k'], ['r', 'N', 'u', 'A', 'S', 'l', 'b'], ['b', 'm', 'J', 'C', 'c', 'o', 'G', 'R'], ['n', 't', 'F', 'h', 'V', 'Z'], ['S', 'Y', 'T', 'K', 'z', 'D', 'a'], ['n', 'V', 'o', 'C', 'U', 'l', 'f'], ['g', 'H', 'a', 'W', 't', 'p', 'b'], ['d', 'F', 'P', 'W', 'v', 'n'], ['Y', 'g', 'w', 't', 'b', 'Z', 'v', 'M'], ['W', 'X', 'U', 'z', 'R', 'A', 'F', 't', 'M'], ['r', 'g', 'N', 'i', 'F', 'y', 'a', 'q'], ['b', 'h', 'Z', 'G', 'm', 'z', 'v', 'H'], ['q', 'J', 'M', 'P', 'T', 'y'], ['M', 'G', 'W', 'b', 'X', 'O'], ['Q', 'Y', 'A', 'S', 'g', 'W'], ['N', 'i', 'E', 'p', 'm', 't', 'q'], ['Z', 'v', 'q', 'S', 'z', 'f', 'N', 'W', 'P'], ['L', 'u', 'S', 't', 'U', 'N'], ['Y', 'v', 'l', 'V', 'N', 'K', 'D'], ['K', 'i', 'f', 'l', 'N', 't', 'B', 'c'], ['i', 'b', 'n', 'D', 's', 'm', 'L'], ['f', 'i', 'a', 'c', 'r', 'O', 'W'], ['O', 'N', 'U', 'D', 'T', 'X', 'z', 'F', 'c'], ['p', 'Q', 'A', 'l', 'X', 'b'], ['D', 'j', 'Y', 'T', 'F', 'z', 'V'], ['R', 'p', 'f', 'r', 'i', 'T', 'N', 'o', 'X'], ['R', 'T', 'a', 'I', 'l', 'X'], ['Z', 'O', 'T', 'd', 'e', 'v', 'Q', 'L', 'r'], ['j', 'n', 'H', 'B', 'F', 'U', 'D', 'T'], ['U', 'l', 'b', 'u', 'r', 'K'], ['F', 'y', 'g', 'b', 'T', 'L', 'C', 'W'], ['E', 'D', 'g', 'a', 'N', 'P', 'V', 'L'], ['U', 'p', 'C', 'v', 'h', 'm', 'I'], ['d', 'h', 's', 'I', 'a', 'G', 'N', 'g'], ['D', 'z', 'O', 'o', 't', 'e', 'V', 'C', 'd'], ['b', 'U', 'n', 'B', 't', 'S'], ['D', 'K', 'o', 's', 'j', 'V', 'Q', 'h', 'w'], ['G', 'U', 'J', 'O', 'N', 'y', 'x', 'p'], ['I', 'H', 'G', 'B', 'p', 'Q'], ['a', 'x', 'w', 'D', 'l', 'V', 'f', 'L'], ['f', 'J', 'u', 'p', 'B', 'b', 's', 'X'], ['O', 'L', 'm', 'c', 'A', 'a', 'M', 'S', 'b'], ['Q', 'V', 'u', 'U', 'H', 'o', 'K', 'm'], ['G', 'R', 'j', 'r', 'g', 'p', 'N', 't', 'u'], ['s', 'h', 't', 'q', 'l', 'y'], ['j', 'L', 'D', 'c', 'K', 'g', 'l'], ['D', 'L', 'F', 'N', 'w', 'Z', 'O', 's'], ['K', 'u', 'G', 'z', 'p', 'j', 'C'], ['Q', 'r', 'P', 'V', 'v', 'l', 't'], ['H', 'Y', 'x', 'L', 'I', 'Q'], ['W', 'j', 'B', 'X', 'C', 'V', 'r'], ['j', 'S', 'D', 'I', 'E', 'u', 'W'], ['L', 'd', 'M', 'w', 'z', 'N', 'H', 'W', 'e'], ['r', 'a', 'c', 'x', 'D', 'd', 's']]\n",
            "[601, 607, 613, 617, 619, 631, 641, 643, 647, 653, 659, 661, 673, 677, 683, 691, 701, 709, 719, 727, 733, 739, 743, 751, 757, 761, 769, 773, 787, 797]\n",
            "[126, 189, 252, 315, 378, 441, 504, 567, 630, 693, 756, 819, 882, 945]\n"
          ]
        }
      ]
    },
    {
      "cell_type": "markdown",
      "source": [
        "\n",
        "## Question-5"
      ],
      "metadata": {
        "id": "VbWm0bvV1HLg"
      }
    },
    {
      "cell_type": "code",
      "source": [
        "import random as r\n",
        "\n",
        "# Create 2 lists of random numbers between 10 and 30\n",
        "L1 = [r.randint(10,31) for i in range(10)]\n",
        "L2 = [r.randint(10,31) for i in range(10)]\n",
        "print(\"L1 is: \", L1)\n",
        "print(\"L2 is: \", L2)\n",
        "\n",
        "# find the common numbers between the two lists\n",
        "S1 = set(L1)\n",
        "S2 = set(L2)\n",
        "common = S1.intersection(S2)\n",
        "print(common)\n",
        "\n",
        "# find the unique numbers in both the lists\n",
        "unique = S1.union(S2)\n",
        "print(unique)\n",
        "\n",
        "# minimum in both lists\n",
        "print(min(unique))\n",
        "\n",
        "# maximum in both lists\n",
        "print(max(unique))\n",
        "\n",
        "# sum of both lists\n",
        "# btw L1 + L2 would be wrong as it is concat\n",
        "print([x+y for x,y in zip(L1,L2)])\n"
      ],
      "metadata": {
        "colab": {
          "base_uri": "https://localhost:8080/"
        },
        "id": "YStBKqyX1Je5",
        "outputId": "48814d60-9849-41db-f223-a5b1d877d1a4"
      },
      "execution_count": 52,
      "outputs": [
        {
          "output_type": "stream",
          "name": "stdout",
          "text": [
            "L1 is:  [31, 25, 28, 27, 16, 16, 18, 10, 14, 18]\n",
            "L2 is:  [10, 27, 11, 14, 11, 27, 24, 24, 21, 13]\n",
            "{10, 27, 14}\n",
            "{10, 11, 13, 14, 16, 18, 21, 24, 25, 27, 28, 31}\n",
            "10\n",
            "31\n",
            "[41, 52, 39, 41, 27, 43, 42, 34, 35, 31]\n"
          ]
        }
      ]
    },
    {
      "cell_type": "markdown",
      "source": [
        "##Question-6"
      ],
      "metadata": {
        "id": "zYWXISJ93kHx"
      }
    },
    {
      "cell_type": "code",
      "source": [
        "import random as r\n",
        "\n",
        "# create a list of 100 random numbers between 100 and 900\n",
        "L = []\n",
        "for i in range(100):\n",
        "  L.append(r.randint(100,901))\n",
        "\n",
        "# count all odd numbers in L\n",
        "odds = [i for i in L if i%2 != 0]\n",
        "print(odds)\n",
        "print(len(odds), \"\\n\")\n",
        "\n",
        "# count all even numbers in L\n",
        "evens = [i for i in L if i%2 == 0]\n",
        "print(evens)\n",
        "print(len(evens), \"\\n\")\n",
        "\n",
        "# count all prime numbers\n",
        "def primeCheck(num):\n",
        "  for i in range(2,num//2):\n",
        "    if (num%i == 0): return 0\n",
        "  return 1\n",
        "primes = [i for i in L if primeCheck(i)]\n",
        "print(primes)\n",
        "print(len(primes))"
      ],
      "metadata": {
        "colab": {
          "base_uri": "https://localhost:8080/"
        },
        "id": "imcjc1E53mAp",
        "outputId": "0f85e63c-90e4-4928-ff29-332eaf9b61b1"
      },
      "execution_count": 53,
      "outputs": [
        {
          "output_type": "stream",
          "name": "stdout",
          "text": [
            "[561, 713, 405, 297, 165, 831, 633, 635, 525, 329, 649, 227, 737, 257, 337, 489, 889, 877, 605, 607, 813, 101, 695, 253, 453, 473, 107, 289, 417, 849, 255, 831, 853, 867, 505, 159, 865, 655, 511, 621, 501, 773, 225, 879, 277, 353, 369, 579, 901, 205, 285, 865, 247, 385, 137, 353, 593]\n",
            "57 \n",
            "\n",
            "[422, 510, 568, 132, 822, 384, 130, 874, 806, 808, 868, 820, 196, 252, 366, 752, 814, 378, 232, 220, 288, 306, 762, 212, 808, 686, 784, 690, 776, 192, 772, 808, 858, 770, 502, 392, 222, 448, 156, 824, 390, 368, 810]\n",
            "43 \n",
            "\n",
            "[227, 257, 337, 877, 607, 101, 107, 853, 773, 277, 353, 137, 353, 593]\n",
            "14\n"
          ]
        }
      ]
    },
    {
      "cell_type": "markdown",
      "source": [
        "##Question-7"
      ],
      "metadata": {
        "id": "lD8qeXmi5bkp"
      }
    },
    {
      "cell_type": "code",
      "source": [
        "D = {1:\"One\", 2:\"Two\", 3:\"Three\", 4:\"Four\", 5:\"Five\"}\n",
        "\n",
        "# read all keys and values from dictionary D and write to file line-wise\n",
        "\n",
        "fp = open(\"keyvals.txt\", \"w\")\n",
        "for k,v in D.items():\n",
        "  fp.write(str(k) + \", \" + str(v) + \"\\n\")\n",
        "fp.close()\n",
        "\n",
        "thefile = open(\"keyvals.txt\", \"r\")\n",
        "reader = thefile.read()\n",
        "print(reader)\n",
        "thefile.close()"
      ],
      "metadata": {
        "colab": {
          "base_uri": "https://localhost:8080/"
        },
        "id": "teiiXwTd5egW",
        "outputId": "55fbd673-a7fc-4a01-c783-af56b9f200e5"
      },
      "execution_count": 58,
      "outputs": [
        {
          "output_type": "stream",
          "name": "stdout",
          "text": [
            "1, One\n",
            "2, Two\n",
            "3, Three\n",
            "4, Four\n",
            "5, Five\n",
            "\n"
          ]
        }
      ]
    },
    {
      "cell_type": "markdown",
      "source": [
        "##Question-8"
      ],
      "metadata": {
        "id": "IadmmoeW75tp"
      }
    },
    {
      "cell_type": "code",
      "source": [
        "L = [\"One\", \"Two\", \"Three\", \"Four\", \"Five\"]\n",
        "\n",
        "# count the length of each element and write it down line-wise with each element followed by its length\n",
        "\n",
        "fp = open(\"len.txt\", \"w\")\n",
        "for i in L:\n",
        "  fp.write(str(i) + \", \" + str(len(i)) + \"\\n\")\n",
        "fp.close()\n",
        "\n",
        "somefile = open(\"len.txt\", \"r\")\n",
        "reader = somefile.read()\n",
        "print(reader)\n",
        "somefile.close()"
      ],
      "metadata": {
        "colab": {
          "base_uri": "https://localhost:8080/"
        },
        "id": "9FqnuPfI77pZ",
        "outputId": "0470319f-daca-4652-8869-3d091ef6c354"
      },
      "execution_count": 62,
      "outputs": [
        {
          "output_type": "stream",
          "name": "stdout",
          "text": [
            "One, 3\n",
            "Two, 3\n",
            "Three, 5\n",
            "Four, 4\n",
            "Five, 4\n",
            "\n"
          ]
        }
      ]
    },
    {
      "cell_type": "markdown",
      "source": [
        "##Question-9"
      ],
      "metadata": {
        "id": "AY-ZJJL39XoB"
      }
    },
    {
      "cell_type": "code",
      "source": [
        "# write to file 100 random strings whose length is between 10 and 15\n",
        "\n",
        "import random as r\n",
        "import string as s\n",
        "\n",
        "rstrings = []\n",
        "for i in range(100):\n",
        "  rstrings.append(r.sample(s.ascii_letters, r.randint(10,16)))\n",
        "\n",
        "fp = open(\"ran.txt\", \"w\")\n",
        "for i in rstrings:\n",
        "  fp.write(\"\".join(i) + \"\\n\")\n",
        "fp.close()\n",
        "\n",
        "somefile = open(\"ran.txt\", \"r\")\n",
        "reader = somefile.read()\n",
        "print(reader)\n",
        "somefile.close()"
      ],
      "metadata": {
        "colab": {
          "base_uri": "https://localhost:8080/"
        },
        "id": "xMtxKUps9aVA",
        "outputId": "752505e5-b6f0-47d6-b36d-5d89eca0a389"
      },
      "execution_count": 67,
      "outputs": [
        {
          "output_type": "stream",
          "name": "stdout",
          "text": [
            "JrjGAcpnzKkQyx\n",
            "TNVnwaXJjyIKfket\n",
            "kKANwUrWflniQJD\n",
            "EXZiQahVmfMU\n",
            "cHOJsAWDYNuef\n",
            "YFhMQulGTzpg\n",
            "VZXnWNkuvE\n",
            "dtoiJYfXEn\n",
            "NegyiKUMXHZRTsBl\n",
            "HGjXsMZcxVDyTz\n",
            "gzKAEubRfjmqacZN\n",
            "TBFyMIWRbcNPKd\n",
            "VWkovGMNbOE\n",
            "SHtlqOBQENC\n",
            "CAicEgDjOmqGf\n",
            "yvZFRAwTsGYo\n",
            "BOMkNsloQvWXZ\n",
            "hZLqCDgjNHbrRvMT\n",
            "NpMWOIFTJC\n",
            "evgAafPGJRyDhdn\n",
            "dLroenuOhWAUs\n",
            "rDSXtxBTjViYHvw\n",
            "zJdvFOABfTMyGgo\n",
            "egrPlXiYuIkqpmf\n",
            "TSeEMqIblCWrFJ\n",
            "ZlkmMsoApIbQUFv\n",
            "ZuhqJscXUWlyFezk\n",
            "EnXkzwSNvTgupdcK\n",
            "IdaJPHXfwlL\n",
            "BaiVkmhUPn\n",
            "KoxbYuGWSJQhDI\n",
            "XDPBMphjWFqRmk\n",
            "pdWTqMZSngOxX\n",
            "FYmNxAbSuyl\n",
            "cIWxkCJqVSDotzsa\n",
            "VoCphMKvOBAk\n",
            "jODrUaXAysCHvBW\n",
            "BNeDLiUMtqdKQOR\n",
            "hzFkLgHZCsS\n",
            "IqDFPytvlTNz\n",
            "RkNIPhMJHgrif\n",
            "nvuDVLCAfJPoZaK\n",
            "xjyTmzNJZDqiI\n",
            "nWvSqitZXgULyG\n",
            "rTqSXzKwJEbmfgj\n",
            "tmIiNxlTCgaVeUfj\n",
            "jlQTxAafewHVKJNC\n",
            "ApxtGaksnCjTXN\n",
            "UTIDZYduFkXBe\n",
            "zHUgetpBAIoj\n",
            "iruvCyWHVj\n",
            "PRTKtvjuUeaD\n",
            "uTonZOPfia\n",
            "NJhIHZDywsv\n",
            "HcBAEJSaKk\n",
            "vNXgjdcGaohZE\n",
            "hUtZlBiGDmFzANQ\n",
            "HZQOILtKpr\n",
            "iwcylTQnDFdYgP\n",
            "AVgNDMTFjdSLZs\n",
            "xjBDlIdVvZnAX\n",
            "ZwUSLWvnpQsqVO\n",
            "pSdfBQIFtJjaMEwR\n",
            "WyZapsIvCjSk\n",
            "ehmPoRVaNlxBvkC\n",
            "uVygmXQAOD\n",
            "fGQbyrFcZPWeSnp\n",
            "NIywqPXdiSJz\n",
            "RzIChdqloHWncOUL\n",
            "DXRUnVNfBjF\n",
            "peucPAqEJiNG\n",
            "shXLfoITeWDC\n",
            "JQyAcLgrbSedzW\n",
            "ekEFvjGbmMLz\n",
            "jMwZnphAslE\n",
            "EPdOvjVonLNuCqg\n",
            "JsDRUpzZkiXI\n",
            "haHowOBCQvPVcjuz\n",
            "ALIVjDoRJsnHMc\n",
            "haQiKTwImLPkrso\n",
            "wfasjVohmkdYcR\n",
            "PEwYoURWNuarVtHM\n",
            "UsRJwYlAcMaWfKSu\n",
            "rPGucbIUHVnl\n",
            "lqwsaJgMvEKe\n",
            "zXoWydIpnYTsH\n",
            "EBceUwCIumqhQ\n",
            "HSXlcuodpkjKzPx\n",
            "BhNawnPcJkAR\n",
            "aWMxZDGVns\n",
            "DgyZGpVEubkL\n",
            "aXgSkQFdrv\n",
            "ZHVJYbBIWh\n",
            "qxSBFGItjJ\n",
            "oqQNXnPmgsBSlJp\n",
            "tRvGjdxalOyYiN\n",
            "wVNPUlcqjXeHSf\n",
            "DWYPeAKwhEbu\n",
            "HevMdhcxDuQr\n",
            "jgAozyBuNlFP\n",
            "\n"
          ]
        }
      ]
    },
    {
      "cell_type": "markdown",
      "source": [
        "##Question-10"
      ],
      "metadata": {
        "id": "P1zIYhd4-8HQ"
      }
    },
    {
      "cell_type": "code",
      "source": [
        "def primeCheck(num):\n",
        "  for i in range(2,num//2):\n",
        "    if (num%i == 0): return 0\n",
        "  return 1\n",
        "\n",
        "fp = open(\"primes.txt\", \"w\")\n",
        "for i in range(600,801):\n",
        "  if primeCheck(i): fp.write(str(i) + \"\\n\")\n",
        "fp.close()\n",
        "\n",
        "somefile = open(\"primes.txt\", \"r\")\n",
        "reader = somefile.read()\n",
        "print(reader)\n",
        "somefile.close()"
      ],
      "metadata": {
        "colab": {
          "base_uri": "https://localhost:8080/"
        },
        "id": "NW5Zr2Gw-_Aq",
        "outputId": "1cc259a5-8957-4e06-c5f8-f85b0f38e384"
      },
      "execution_count": 72,
      "outputs": [
        {
          "output_type": "stream",
          "name": "stdout",
          "text": [
            "601\n",
            "607\n",
            "613\n",
            "617\n",
            "619\n",
            "631\n",
            "641\n",
            "643\n",
            "647\n",
            "653\n",
            "659\n",
            "661\n",
            "673\n",
            "677\n",
            "683\n",
            "691\n",
            "701\n",
            "709\n",
            "719\n",
            "727\n",
            "733\n",
            "739\n",
            "743\n",
            "751\n",
            "757\n",
            "761\n",
            "769\n",
            "773\n",
            "787\n",
            "797\n",
            "\n"
          ]
        }
      ]
    },
    {
      "cell_type": "markdown",
      "source": [
        "##Question-11"
      ],
      "metadata": {
        "id": "5SoUnQYLAmid"
      }
    },
    {
      "cell_type": "code",
      "source": [
        "# WAP to calculate time taken by a program\n",
        "\n",
        "import time\n",
        "\n",
        "start_time = time.time()\n",
        "\n",
        "# arbitrary program block\n",
        "for i in range(10001):\n",
        "  i = i\n",
        "\n",
        "end_time = time.time()\n",
        "\n",
        "elapsed_time = end_time - start_time\n",
        "\n",
        "print(f\"Time elapsed for program to run is {elapsed_time} seconds\")"
      ],
      "metadata": {
        "colab": {
          "base_uri": "https://localhost:8080/"
        },
        "id": "HAprV00CAqra",
        "outputId": "456c24c9-ebeb-4b9f-91db-cc6571e8d4e6"
      },
      "execution_count": 74,
      "outputs": [
        {
          "output_type": "stream",
          "name": "stdout",
          "text": [
            "Time elapsed for program to run is 0.0008766651153564453 seconds\n"
          ]
        }
      ]
    },
    {
      "cell_type": "markdown",
      "source": [
        "##Question-12"
      ],
      "metadata": {
        "id": "ov_H-4McBthw"
      }
    },
    {
      "cell_type": "code",
      "source": [
        "\"\"\"\n",
        "WAP to sort the following number of elements in a list:\n",
        "5k, 10k, 15k, 20k, 25k\n",
        "Calculate the time taken to sort each list size and plot the graph\n",
        "\"\"\"\n",
        "\n",
        "import random as r\n",
        "import time\n",
        "\n",
        "# first defining a function that generates a random list of a given size\n",
        "def listGen(num):\n",
        "  L = []\n",
        "  for i in range(num+1):\n",
        "    L.append(r.random())\n",
        "  return L\n",
        "\n",
        "def sortTime(L):\n",
        "  start_time = time.time()\n",
        "  L.sort()\n",
        "  end_time = time.time()\n",
        "  return end_time - start_time\n",
        "\n",
        "num_elements = [5000, 10000, 15000, 20000, 25000]\n",
        "time_taken = []\n",
        "\n",
        "for n in num_elements:\n",
        "  L = listGen(n)\n",
        "  time_taken.append(sortTime(L))\n",
        "\n",
        "# now plotting them\n",
        "import matplotlib.pyplot as plt\n",
        "plt.plot(num_elements, time_taken)\n",
        "plt.show()"
      ],
      "metadata": {
        "colab": {
          "base_uri": "https://localhost:8080/",
          "height": 430
        },
        "id": "gjMqdri2B4so",
        "outputId": "20cdb989-a9cd-422d-9f6a-55b3b017a31b"
      },
      "execution_count": 76,
      "outputs": [
        {
          "output_type": "display_data",
          "data": {
            "text/plain": [
              "<Figure size 640x480 with 1 Axes>"
            ],
            "image/png": "[encoded data removed]"
          },
          "metadata": {}
        }
      ]
    },
    {
      "cell_type": "markdown",
      "source": [
        "##Question-13"
      ],
      "metadata": {
        "id": "24_ssgQcE0vl"
      }
    },
    {
      "cell_type": "code",
      "source": [
        "\"\"\"\n",
        "WAP to create a dictionary of student marks in five subjects and find\n",
        "the student having maximum and minimum average marks.\n",
        "\"\"\"\n",
        "\n",
        "import random as r\n",
        "\n",
        "# manually assuming and entering 5 subject labels\n",
        "# each subject label maps with equisized list of student marks\n",
        "# number of students and marks lists will be randomly generated\n",
        "# each student is identified with the list index\n",
        "# attempting without numpy\n",
        "\n",
        "num_students = r.randint(30,51)\n",
        "print(\"number of students are: \", num_students)\n",
        "\n",
        "def listGen(num):\n",
        "  L = []\n",
        "  for i in range(num+1):\n",
        "    L.append(r.randint(0,101))\n",
        "  return L\n",
        "\n",
        "D = {\n",
        "    \"sub1\" : listGen(num_students),\n",
        "    \"sub2\" : listGen(num_students),\n",
        "    \"sub3\" : listGen(num_students),\n",
        "    \"sub4\" : listGen(num_students),\n",
        "    \"sub5\" : listGen(num_students),\n",
        "}\n",
        "\n",
        "buffList = [] # length is number of subjects i.e. 5\n",
        "avgList = [] # length is num_students\n",
        "\n",
        "for i in range(num_students):\n",
        "  for k in D.keys():\n",
        "    buffList.append(D[k][i])\n",
        "  avgList.append(sum(buffList)/len(D))\n",
        "  buffList.clear()\n",
        "\n",
        "max_avg = max(avgList)\n",
        "max_avg_index = avgList.index(max_avg) #this is the student no.\n",
        "# is there a better way to do this?\n",
        "\n",
        "min_avg = min(avgList)\n",
        "min_avg_index = avgList.index(min_avg)\n",
        "\n",
        "print(f\"Max avg marks are {max_avg} of student number {max_avg_index}\")\n",
        "print(f\"Min avg marks are {min_avg} of student number {min_avg_index}\")\n"
      ],
      "metadata": {
        "colab": {
          "base_uri": "https://localhost:8080/"
        },
        "id": "HS0xUjqwE4UA",
        "outputId": "db7851dc-1888-4bd5-d95a-1a703e0ad5e0"
      },
      "execution_count": 80,
      "outputs": [
        {
          "output_type": "stream",
          "name": "stdout",
          "text": [
            "number of students are:  43\n",
            "Max avg marks are 82.4 of student number 7\n",
            "Min avg marks are 21.8 of student number 9\n"
          ]
        }
      ]
    }
  ]
}